{
 "cells": [
  {
   "cell_type": "code",
   "execution_count": 87,
   "metadata": {},
   "outputs": [],
   "source": [
    "def make_shirt(size, message):\n",
    "        print(\"This is for you \" + size + \" t-shirt.\")\n",
    "        print('The Slogan Is, \"' + message + '\"')"
   ]
  },
  {
   "cell_type": "code",
   "execution_count": 95,
   "metadata": {},
   "outputs": [
    {
     "name": "stdout",
     "output_type": "stream",
     "text": [
      "This is for you medium t-shirt.\n",
      "The Slogan Is, \"I love Python!\"\n"
     ]
    }
   ],
   "source": [
    "make_shirt('medium','I love Python')  #Positional Arguments\n",
    "\n",
    "#Call the function a second time using keyword arguments not able to call ??"
   ]
  },
  {
   "cell_type": "code",
   "execution_count": null,
   "metadata": {},
   "outputs": [],
   "source": [
    "\n"
   ]
  },
  {
   "cell_type": "code",
   "execution_count": 94,
   "metadata": {},
   "outputs": [
    {
     "name": "stdout",
     "output_type": "stream",
     "text": [
      "This is for you large t-shirt.\n",
      "The Slogan Is, \"I love Python!\"\n",
      "This is for you medium t-shirt.\n",
      "The Slogan Is, \"I love Python!\"\n",
      "This is for you small t-shirt.\n",
      "The Slogan Is, \"Python is the \"most powerful language you can still read.\"\n"
     ]
    }
   ],
   "source": [
    "def make_shirt(size='large', message='I love Python!'):\n",
    "    print(\"This is for you \" + size + \" t-shirt.\")\n",
    "    print('The Slogan Is, \"' + message + '\"')\n",
    "make_shirt()\n",
    "make_shirt(size='medium')\n",
    "make_shirt('small', 'Python is the \"most powerful language you can still read.')\n",
    "\n"
   ]
  },
  {
   "cell_type": "code",
   "execution_count": 72,
   "metadata": {},
   "outputs": [
    {
     "name": "stdout",
     "output_type": "stream",
     "text": [
      "Mumbai IS IN India\n",
      "Reykjavik IS IN Iceland\n",
      "Bangaluru IS IN India\n"
     ]
    }
   ],
   "source": [
    "def describe_city(city, country='India'):\n",
    "        msg = city.title() + \" IS IN \"  + country.title()\n",
    "        print(msg)\n",
    "\n",
    "describe_city('Mumbai')\n",
    "describe_city('reykjavik', 'iceland')\n",
    "describe_city('Bangaluru')"
   ]
  },
  {
   "cell_type": "code",
   "execution_count": null,
   "metadata": {},
   "outputs": [],
   "source": [
    "#### END OF WEEKEND ASSIGNMNET ON 17-May-2020(Sunday) ##########################"
   ]
  },
  {
   "cell_type": "code",
   "execution_count": null,
   "metadata": {},
   "outputs": [],
   "source": []
  },
  {
   "cell_type": "code",
   "execution_count": null,
   "metadata": {},
   "outputs": [],
   "source": []
  },
  {
   "cell_type": "code",
   "execution_count": null,
   "metadata": {},
   "outputs": [],
   "source": []
  },
  {
   "cell_type": "code",
   "execution_count": null,
   "metadata": {},
   "outputs": [],
   "source": []
  },
  {
   "cell_type": "code",
   "execution_count": null,
   "metadata": {},
   "outputs": [],
   "source": []
  },
  {
   "cell_type": "code",
   "execution_count": null,
   "metadata": {},
   "outputs": [],
   "source": []
  },
  {
   "cell_type": "code",
   "execution_count": null,
   "metadata": {},
   "outputs": [],
   "source": []
  }
 ],
 "metadata": {
  "kernelspec": {
   "display_name": "Python 3",
   "language": "python",
   "name": "python3"
  },
  "language_info": {
   "codemirror_mode": {
    "name": "ipython",
    "version": 3
   },
   "file_extension": ".py",
   "mimetype": "text/x-python",
   "name": "python",
   "nbconvert_exporter": "python",
   "pygments_lexer": "ipython3",
   "version": "3.7.4"
  }
 },
 "nbformat": 4,
 "nbformat_minor": 2
}
