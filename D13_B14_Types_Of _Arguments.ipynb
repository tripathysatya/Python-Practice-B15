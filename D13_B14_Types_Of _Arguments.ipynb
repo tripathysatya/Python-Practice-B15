{
 "cells": [
  {
   "cell_type": "code",
   "execution_count": null,
   "metadata": {},
   "outputs": [],
   "source": [
    "# introduction to types of arguments inside a function.\n"
   ]
  },
  {
   "cell_type": "code",
   "execution_count": 1,
   "metadata": {},
   "outputs": [],
   "source": [
    "def describe_pet(animal_type,animal_name):\n",
    "    \"\"\"Display an information about a pet animal\"\"\"\n",
    "    print(f\"\\nI have a {animal_type}\") \n",
    "    print(f\"my {animal_type}'s name is {animal_name}'\")"
   ]
  },
  {
   "cell_type": "code",
   "execution_count": null,
   "metadata": {},
   "outputs": [],
   "source": []
  },
  {
   "cell_type": "code",
   "execution_count": 2,
   "metadata": {},
   "outputs": [
    {
     "name": "stdout",
     "output_type": "stream",
     "text": [
      "\n",
      "I have a puppy\n",
      "my puppy's name is bingo'\n"
     ]
    }
   ],
   "source": [
    "describe_pet('puppy','bingo')"
   ]
  },
  {
   "cell_type": "code",
   "execution_count": null,
   "metadata": {},
   "outputs": [],
   "source": []
  },
  {
   "cell_type": "code",
   "execution_count": null,
   "metadata": {},
   "outputs": [],
   "source": [
    "# Types of Arguments:\n",
    "#3 types of arguments\n",
    "1.Possitional\n",
    "2.Keywords\n",
    "3.Default\n",
    "\n"
   ]
  },
  {
   "cell_type": "code",
   "execution_count": null,
   "metadata": {},
   "outputs": [],
   "source": []
  },
  {
   "cell_type": "code",
   "execution_count": 4,
   "metadata": {},
   "outputs": [
    {
     "name": "stdout",
     "output_type": "stream",
     "text": [
      "\n",
      "I have a dog\n",
      "my dog's name is scooby'\n"
     ]
    }
   ],
   "source": [
    "describe_pet('dog','scooby')                   #Here the positions are getting Impacted The positio is #dog"
   ]
  },
  {
   "cell_type": "code",
   "execution_count": null,
   "metadata": {},
   "outputs": [],
   "source": []
  },
  {
   "cell_type": "code",
   "execution_count": 9,
   "metadata": {},
   "outputs": [
    {
     "name": "stdout",
     "output_type": "stream",
     "text": [
      "\n",
      "I have a cat\n",
      "my cat's name is snowbell'\n"
     ]
    }
   ],
   "source": [
    "describe_pet(animal_name='snowbell', animal_type ='cat')   "
   ]
  },
  {
   "cell_type": "code",
   "execution_count": null,
   "metadata": {},
   "outputs": [],
   "source": []
  },
  {
   "cell_type": "code",
   "execution_count": null,
   "metadata": {},
   "outputs": [],
   "source": [
    "#Type-3- Default Arguments***\n",
    "\n",
    "# While defining the default argument we hv to keep the default argument at the END of a function."
   ]
  },
  {
   "cell_type": "code",
   "execution_count": null,
   "metadata": {},
   "outputs": [],
   "source": []
  },
  {
   "cell_type": "code",
   "execution_count": 28,
   "metadata": {},
   "outputs": [],
   "source": [
    "def describe_pet(animal_name,animal_type='cat'):\n",
    "    \"\"\"Display an information about a pet animal\"\"\"\n",
    "    print(f\"\\nI have a {animal_type}\") \n",
    "    print(f\"my {animal_type}'s name is {animal_name}'\")"
   ]
  },
  {
   "cell_type": "code",
   "execution_count": 29,
   "metadata": {},
   "outputs": [
    {
     "name": "stdout",
     "output_type": "stream",
     "text": [
      "\n",
      "I have a cat\n",
      "my cat's name is snowbell'\n"
     ]
    }
   ],
   "source": [
    "describe_pet('snowbell')"
   ]
  },
  {
   "cell_type": "code",
   "execution_count": null,
   "metadata": {},
   "outputs": [],
   "source": [
    "#Introduction to return value of a function.\n",
    "#whenever the pupose is to restrict the output ,then we have to go for retuen method ."
   ]
  },
  {
   "cell_type": "code",
   "execution_count": 19,
   "metadata": {},
   "outputs": [],
   "source": [
    "def get_formatted_name():\n",
    "    first_name='satya'\n",
    "    middle_name='prakash'\n",
    "    last_name='tripathy'\n",
    "    return f\"{first_name} {middle_name}\"\n",
    "    "
   ]
  },
  {
   "cell_type": "code",
   "execution_count": 20,
   "metadata": {},
   "outputs": [
    {
     "data": {
      "text/plain": [
       "'satya prakash'"
      ]
     },
     "execution_count": 20,
     "metadata": {},
     "output_type": "execute_result"
    }
   ],
   "source": [
    "get_formatted_name()"
   ]
  },
  {
   "cell_type": "code",
   "execution_count": 21,
   "metadata": {},
   "outputs": [],
   "source": [
    "def get_formatted_name():\n",
    "    first_name='satya'\n",
    "    middle_name='prakash'\n",
    "    last_name='tripathy'\n",
    "    return f\"{first_name} {last_name}\""
   ]
  },
  {
   "cell_type": "code",
   "execution_count": 22,
   "metadata": {},
   "outputs": [
    {
     "data": {
      "text/plain": [
       "'satya tripathy'"
      ]
     },
     "execution_count": 22,
     "metadata": {},
     "output_type": "execute_result"
    }
   ],
   "source": [
    "get_formatted_name()"
   ]
  },
  {
   "cell_type": "code",
   "execution_count": null,
   "metadata": {},
   "outputs": [],
   "source": []
  }
 ],
 "metadata": {
  "kernelspec": {
   "display_name": "Python 3",
   "language": "python",
   "name": "python3"
  },
  "language_info": {
   "codemirror_mode": {
    "name": "ipython",
    "version": 3
   },
   "file_extension": ".py",
   "mimetype": "text/x-python",
   "name": "python",
   "nbconvert_exporter": "python",
   "pygments_lexer": "ipython3",
   "version": "3.7.4"
  }
 },
 "nbformat": 4,
 "nbformat_minor": 2
}
