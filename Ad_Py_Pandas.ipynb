{
 "cells": [
  {
   "cell_type": "code",
   "execution_count": 2,
   "metadata": {},
   "outputs": [],
   "source": [
    "import numpy as np\n",
    "import pandas as pd"
   ]
  },
  {
   "cell_type": "code",
   "execution_count": null,
   "metadata": {},
   "outputs": [],
   "source": []
  },
  {
   "cell_type": "code",
   "execution_count": null,
   "metadata": {},
   "outputs": [],
   "source": [
    "#There are 3 Data types in Pandas\n",
    "\n",
    "1.Series\n",
    "2.DataFrames\n",
    "3.Panel"
   ]
  },
  {
   "cell_type": "code",
   "execution_count": null,
   "metadata": {},
   "outputs": [],
   "source": [
    "#General Sysntax For Series Data Types:\n",
    "pandas.Series(data,index,dtype,copy)"
   ]
  },
  {
   "cell_type": "code",
   "execution_count": null,
   "metadata": {},
   "outputs": [],
   "source": []
  },
  {
   "cell_type": "code",
   "execution_count": null,
   "metadata": {},
   "outputs": [],
   "source": []
  },
  {
   "cell_type": "code",
   "execution_count": null,
   "metadata": {},
   "outputs": [],
   "source": [
    "# Creation of a series from a ndaraay.\n",
    "\n"
   ]
  },
  {
   "cell_type": "code",
   "execution_count": 5,
   "metadata": {},
   "outputs": [
    {
     "data": {
      "text/plain": [
       "0      Delhi\n",
       "1     Mumbai\n",
       "2    Kolkata\n",
       "3    Chennai\n",
       "dtype: object"
      ]
     },
     "execution_count": 5,
     "metadata": {},
     "output_type": "execute_result"
    }
   ],
   "source": [
    "data = np.array(['Delhi','Mumbai','Kolkata','Chennai'])\n",
    "x = pd.Series(data)\n",
    "x"
   ]
  },
  {
   "cell_type": "code",
   "execution_count": null,
   "metadata": {},
   "outputs": [],
   "source": [
    "# Req The Indexes needs to be 1001 ,1002,1003,1004 instaed of 0,1,2,3,"
   ]
  },
  {
   "cell_type": "code",
   "execution_count": 6,
   "metadata": {},
   "outputs": [
    {
     "data": {
      "text/plain": [
       "1000      Delhi\n",
       "1001     Mumbai\n",
       "1002    Kolkata\n",
       "1003    Chennai\n",
       "dtype: object"
      ]
     },
     "execution_count": 6,
     "metadata": {},
     "output_type": "execute_result"
    }
   ],
   "source": [
    "data = np.array(['Delhi','Mumbai','Kolkata','Chennai'])\n",
    "x = pd.Series(data, index=[1000,1001,1002,1003])\n",
    "x"
   ]
  },
  {
   "cell_type": "code",
   "execution_count": null,
   "metadata": {},
   "outputs": [],
   "source": [
    "# Creating a series from a dictionary."
   ]
  },
  {
   "cell_type": "code",
   "execution_count": 7,
   "metadata": {},
   "outputs": [],
   "source": [
    "data = {'a':1,'b':2,'c':3,'d':4}"
   ]
  },
  {
   "cell_type": "code",
   "execution_count": 8,
   "metadata": {},
   "outputs": [
    {
     "data": {
      "text/plain": [
       "a    1\n",
       "b    2\n",
       "c    3\n",
       "d    4\n",
       "dtype: int64"
      ]
     },
     "execution_count": 8,
     "metadata": {},
     "output_type": "execute_result"
    }
   ],
   "source": [
    "x = pd.Series(data)\n",
    "x"
   ]
  },
  {
   "cell_type": "code",
   "execution_count": 11,
   "metadata": {},
   "outputs": [],
   "source": [
    "data = {'a':\"s\",'b':\"a\",'c':\"t\",'d':\"y\",'e':\"a\"}\n"
   ]
  },
  {
   "cell_type": "code",
   "execution_count": 12,
   "metadata": {},
   "outputs": [
    {
     "data": {
      "text/plain": [
       "a    s\n",
       "b    a\n",
       "c    t\n",
       "d    y\n",
       "e    a\n",
       "dtype: object"
      ]
     },
     "execution_count": 12,
     "metadata": {},
     "output_type": "execute_result"
    }
   ],
   "source": [
    "x = pd.Series(data)\n",
    "x"
   ]
  },
  {
   "cell_type": "code",
   "execution_count": null,
   "metadata": {},
   "outputs": [],
   "source": [
    "#The Keys will be acting as an indexes for dictionary."
   ]
  },
  {
   "cell_type": "code",
   "execution_count": 13,
   "metadata": {},
   "outputs": [],
   "source": [
    "data = {'a':1,'b':2,'c':3,'d':4}"
   ]
  },
  {
   "cell_type": "code",
   "execution_count": 14,
   "metadata": {},
   "outputs": [
    {
     "data": {
      "text/plain": [
       "b    2\n",
       "c    3\n",
       "d    4\n",
       "a    1\n",
       "dtype: int64"
      ]
     },
     "execution_count": 14,
     "metadata": {},
     "output_type": "execute_result"
    }
   ],
   "source": [
    "y = pd.Series(data, index=['b','c','d','a'])\n",
    "y"
   ]
  },
  {
   "cell_type": "code",
   "execution_count": null,
   "metadata": {},
   "outputs": [],
   "source": [
    "# Introduction to Scalars : Any Canstanct Values are known as scalars.\n"
   ]
  },
  {
   "cell_type": "code",
   "execution_count": null,
   "metadata": {},
   "outputs": [],
   "source": [
    "# Req:Creating a series datatype with sclar."
   ]
  },
  {
   "cell_type": "code",
   "execution_count": 15,
   "metadata": {},
   "outputs": [
    {
     "name": "stdout",
     "output_type": "stream",
     "text": [
      "1     10\n",
      "2     10\n",
      "3     10\n",
      "4     10\n",
      "5     10\n",
      "6     10\n",
      "7     10\n",
      "8     10\n",
      "9     10\n",
      "10    10\n",
      "dtype: int64\n"
     ]
    }
   ],
   "source": [
    "s = pd.Series(10, index= [1,2,3,4,5,6,7,8,9,10])\n",
    "print(s)"
   ]
  },
  {
   "cell_type": "code",
   "execution_count": 16,
   "metadata": {},
   "outputs": [
    {
     "name": "stdout",
     "output_type": "stream",
     "text": [
      "1     satya\n",
      "2     satya\n",
      "3     satya\n",
      "4     satya\n",
      "5     satya\n",
      "6     satya\n",
      "7     satya\n",
      "8     satya\n",
      "9     satya\n",
      "10    satya\n",
      "dtype: object\n"
     ]
    }
   ],
   "source": [
    "s = pd.Series(\"satya\", index= [1,2,3,4,5,6,7,8,9,10])\n",
    "print(s)"
   ]
  },
  {
   "cell_type": "code",
   "execution_count": null,
   "metadata": {},
   "outputs": [],
   "source": []
  },
  {
   "cell_type": "code",
   "execution_count": null,
   "metadata": {},
   "outputs": [],
   "source": [
    "# Understanding The Concepts of Data_Frames ,2d Data\n",
    "\n",
    "Creating an empty DataFrame.\n"
   ]
  },
  {
   "cell_type": "code",
   "execution_count": 17,
   "metadata": {},
   "outputs": [
    {
     "name": "stdout",
     "output_type": "stream",
     "text": [
      "Empty DataFrame\n",
      "Columns: []\n",
      "Index: []\n"
     ]
    }
   ],
   "source": [
    "df = pd.DataFrame()\n",
    "print(df)"
   ]
  },
  {
   "cell_type": "code",
   "execution_count": null,
   "metadata": {},
   "outputs": [],
   "source": [
    "# Creation Of a dataframe from a list."
   ]
  },
  {
   "cell_type": "code",
   "execution_count": 18,
   "metadata": {},
   "outputs": [],
   "source": [
    "data = [1,2,3,4,5,6,7,8,9,10]"
   ]
  },
  {
   "cell_type": "code",
   "execution_count": 19,
   "metadata": {},
   "outputs": [
    {
     "name": "stdout",
     "output_type": "stream",
     "text": [
      "    0\n",
      "0   1\n",
      "1   2\n",
      "2   3\n",
      "3   4\n",
      "4   5\n",
      "5   6\n",
      "6   7\n",
      "7   8\n",
      "8   9\n",
      "9  10\n"
     ]
    }
   ],
   "source": [
    "df = pd.DataFrame(data)\n",
    "print(df)"
   ]
  },
  {
   "cell_type": "code",
   "execution_count": 20,
   "metadata": {},
   "outputs": [],
   "source": [
    "data1 = ['Delhi','Mumbai','Kolkata','Chennai']"
   ]
  },
  {
   "cell_type": "code",
   "execution_count": 21,
   "metadata": {},
   "outputs": [
    {
     "name": "stdout",
     "output_type": "stream",
     "text": [
      "         0\n",
      "0    Delhi\n",
      "1   Mumbai\n",
      "2  Kolkata\n",
      "3  Chennai\n"
     ]
    }
   ],
   "source": [
    "df = pd.DataFrame(data1)\n",
    "print(df)"
   ]
  },
  {
   "cell_type": "code",
   "execution_count": null,
   "metadata": {},
   "outputs": [],
   "source": []
  },
  {
   "cell_type": "code",
   "execution_count": null,
   "metadata": {},
   "outputs": [],
   "source": [
    "# Creating a dataframe from dict of ndarrays/Lists."
   ]
  },
  {
   "cell_type": "code",
   "execution_count": 22,
   "metadata": {},
   "outputs": [],
   "source": [
    "data ={'Name':['Rohit','Dhawan','Virat','Shreya','Dhoni'],'scores':[10,45,106,67,87]}"
   ]
  },
  {
   "cell_type": "code",
   "execution_count": 25,
   "metadata": {},
   "outputs": [
    {
     "name": "stdout",
     "output_type": "stream",
     "text": [
      "     Name  scores\n",
      "0   Rohit      10\n",
      "1  Dhawan      45\n",
      "2   Virat     106\n",
      "3  Shreya      67\n",
      "4   Dhoni      87\n"
     ]
    }
   ],
   "source": [
    "df = pd.DataFrame(data)\n",
    "print(df)"
   ]
  },
  {
   "cell_type": "code",
   "execution_count": null,
   "metadata": {},
   "outputs": [],
   "source": []
  },
  {
   "cell_type": "code",
   "execution_count": null,
   "metadata": {},
   "outputs": [],
   "source": [
    "# Req :To Analyze the Data from \"artwork_data.csv\" "
   ]
  },
  {
   "cell_type": "code",
   "execution_count": 27,
   "metadata": {},
   "outputs": [
    {
     "data": {
      "text/html": [
       "<div>\n",
       "<style scoped>\n",
       "    .dataframe tbody tr th:only-of-type {\n",
       "        vertical-align: middle;\n",
       "    }\n",
       "\n",
       "    .dataframe tbody tr th {\n",
       "        vertical-align: top;\n",
       "    }\n",
       "\n",
       "    .dataframe thead th {\n",
       "        text-align: right;\n",
       "    }\n",
       "</style>\n",
       "<table border=\"1\" class=\"dataframe\">\n",
       "  <thead>\n",
       "    <tr style=\"text-align: right;\">\n",
       "      <th></th>\n",
       "      <th>id</th>\n",
       "      <th>accession_number</th>\n",
       "      <th>artist</th>\n",
       "      <th>artistRole</th>\n",
       "      <th>artistId</th>\n",
       "      <th>title</th>\n",
       "      <th>dateText</th>\n",
       "      <th>medium</th>\n",
       "      <th>creditLine</th>\n",
       "      <th>year</th>\n",
       "      <th>acquisitionYear</th>\n",
       "      <th>dimensions</th>\n",
       "      <th>width</th>\n",
       "      <th>height</th>\n",
       "      <th>depth</th>\n",
       "      <th>units</th>\n",
       "      <th>inscription</th>\n",
       "      <th>thumbnailCopyright</th>\n",
       "      <th>thumbnailUrl</th>\n",
       "      <th>url</th>\n",
       "    </tr>\n",
       "  </thead>\n",
       "  <tbody>\n",
       "    <tr>\n",
       "      <td>0</td>\n",
       "      <td>1035</td>\n",
       "      <td>A00001</td>\n",
       "      <td>Blake, Robert</td>\n",
       "      <td>artist</td>\n",
       "      <td>38</td>\n",
       "      <td>A Figure Bowing before a Seated Old Man with h...</td>\n",
       "      <td>date not known</td>\n",
       "      <td>Watercolour, ink, chalk and graphite on paper....</td>\n",
       "      <td>Presented by Mrs John Richmond 1922</td>\n",
       "      <td>NaN</td>\n",
       "      <td>1922.0</td>\n",
       "      <td>support: 394 x 419 mm</td>\n",
       "      <td>394</td>\n",
       "      <td>419</td>\n",
       "      <td>NaN</td>\n",
       "      <td>mm</td>\n",
       "      <td>NaN</td>\n",
       "      <td>NaN</td>\n",
       "      <td>http://www.tate.org.uk/art/images/work/A/A00/A...</td>\n",
       "      <td>http://www.tate.org.uk/art/artworks/blake-a-fi...</td>\n",
       "    </tr>\n",
       "    <tr>\n",
       "      <td>1</td>\n",
       "      <td>1036</td>\n",
       "      <td>A00002</td>\n",
       "      <td>Blake, Robert</td>\n",
       "      <td>artist</td>\n",
       "      <td>38</td>\n",
       "      <td>Two Drawings of Frightened Figures, Probably f...</td>\n",
       "      <td>date not known</td>\n",
       "      <td>Graphite on paper</td>\n",
       "      <td>Presented by Mrs John Richmond 1922</td>\n",
       "      <td>NaN</td>\n",
       "      <td>1922.0</td>\n",
       "      <td>support: 311 x 213 mm</td>\n",
       "      <td>311</td>\n",
       "      <td>213</td>\n",
       "      <td>NaN</td>\n",
       "      <td>mm</td>\n",
       "      <td>NaN</td>\n",
       "      <td>NaN</td>\n",
       "      <td>http://www.tate.org.uk/art/images/work/A/A00/A...</td>\n",
       "      <td>http://www.tate.org.uk/art/artworks/blake-two-...</td>\n",
       "    </tr>\n",
       "    <tr>\n",
       "      <td>2</td>\n",
       "      <td>1037</td>\n",
       "      <td>A00003</td>\n",
       "      <td>Blake, Robert</td>\n",
       "      <td>artist</td>\n",
       "      <td>38</td>\n",
       "      <td>The Preaching of Warning. Verso: An Old Man En...</td>\n",
       "      <td>?c.1785</td>\n",
       "      <td>Graphite on paper. Verso: graphite on paper</td>\n",
       "      <td>Presented by Mrs John Richmond 1922</td>\n",
       "      <td>1785</td>\n",
       "      <td>1922.0</td>\n",
       "      <td>support: 343 x 467 mm</td>\n",
       "      <td>343</td>\n",
       "      <td>467</td>\n",
       "      <td>NaN</td>\n",
       "      <td>mm</td>\n",
       "      <td>NaN</td>\n",
       "      <td>NaN</td>\n",
       "      <td>http://www.tate.org.uk/art/images/work/A/A00/A...</td>\n",
       "      <td>http://www.tate.org.uk/art/artworks/blake-the-...</td>\n",
       "    </tr>\n",
       "    <tr>\n",
       "      <td>3</td>\n",
       "      <td>1038</td>\n",
       "      <td>A00004</td>\n",
       "      <td>Blake, Robert</td>\n",
       "      <td>artist</td>\n",
       "      <td>38</td>\n",
       "      <td>Six Drawings of Figures with Outstretched Arms</td>\n",
       "      <td>date not known</td>\n",
       "      <td>Graphite on paper</td>\n",
       "      <td>Presented by Mrs John Richmond 1922</td>\n",
       "      <td>NaN</td>\n",
       "      <td>1922.0</td>\n",
       "      <td>support: 318 x 394 mm</td>\n",
       "      <td>318</td>\n",
       "      <td>394</td>\n",
       "      <td>NaN</td>\n",
       "      <td>mm</td>\n",
       "      <td>NaN</td>\n",
       "      <td>NaN</td>\n",
       "      <td>http://www.tate.org.uk/art/images/work/A/A00/A...</td>\n",
       "      <td>http://www.tate.org.uk/art/artworks/blake-six-...</td>\n",
       "    </tr>\n",
       "    <tr>\n",
       "      <td>4</td>\n",
       "      <td>1039</td>\n",
       "      <td>A00005</td>\n",
       "      <td>Blake, William</td>\n",
       "      <td>artist</td>\n",
       "      <td>39</td>\n",
       "      <td>The Circle of the Lustful: Francesca da Rimini...</td>\n",
       "      <td>1826–7, reprinted 1892</td>\n",
       "      <td>Line engraving on paper</td>\n",
       "      <td>Purchased with the assistance of a special gra...</td>\n",
       "      <td>1826</td>\n",
       "      <td>1919.0</td>\n",
       "      <td>image: 243 x 335 mm</td>\n",
       "      <td>243</td>\n",
       "      <td>335</td>\n",
       "      <td>NaN</td>\n",
       "      <td>mm</td>\n",
       "      <td>NaN</td>\n",
       "      <td>NaN</td>\n",
       "      <td>http://www.tate.org.uk/art/images/work/A/A00/A...</td>\n",
       "      <td>http://www.tate.org.uk/art/artworks/blake-the-...</td>\n",
       "    </tr>\n",
       "    <tr>\n",
       "      <td>...</td>\n",
       "      <td>...</td>\n",
       "      <td>...</td>\n",
       "      <td>...</td>\n",
       "      <td>...</td>\n",
       "      <td>...</td>\n",
       "      <td>...</td>\n",
       "      <td>...</td>\n",
       "      <td>...</td>\n",
       "      <td>...</td>\n",
       "      <td>...</td>\n",
       "      <td>...</td>\n",
       "      <td>...</td>\n",
       "      <td>...</td>\n",
       "      <td>...</td>\n",
       "      <td>...</td>\n",
       "      <td>...</td>\n",
       "      <td>...</td>\n",
       "      <td>...</td>\n",
       "      <td>...</td>\n",
       "      <td>...</td>\n",
       "    </tr>\n",
       "    <tr>\n",
       "      <td>69196</td>\n",
       "      <td>122960</td>\n",
       "      <td>T13865</td>\n",
       "      <td>P-Orridge, Genesis</td>\n",
       "      <td>artist</td>\n",
       "      <td>16646</td>\n",
       "      <td>Larvae (from Tampax Romana)</td>\n",
       "      <td>1975</td>\n",
       "      <td>Perspex, Wood, hairpiece, tampon and human blood</td>\n",
       "      <td>Transferred from Tate Archive 2012</td>\n",
       "      <td>1975</td>\n",
       "      <td>2013.0</td>\n",
       "      <td>object: 305 x 305 x 135 mm</td>\n",
       "      <td>305</td>\n",
       "      <td>305</td>\n",
       "      <td>135.0</td>\n",
       "      <td>mm</td>\n",
       "      <td>NaN</td>\n",
       "      <td>NaN</td>\n",
       "      <td>NaN</td>\n",
       "      <td>http://www.tate.org.uk/art/artworks/p-orridge-...</td>\n",
       "    </tr>\n",
       "    <tr>\n",
       "      <td>69197</td>\n",
       "      <td>122961</td>\n",
       "      <td>T13866</td>\n",
       "      <td>P-Orridge, Genesis</td>\n",
       "      <td>artist</td>\n",
       "      <td>16646</td>\n",
       "      <td>Living Womb (from Tampax Romana)</td>\n",
       "      <td>1976</td>\n",
       "      <td>Wood, Perspex, plastic, photograph on paper, t...</td>\n",
       "      <td>Transferred from Tate Archive 2012</td>\n",
       "      <td>1976</td>\n",
       "      <td>2013.0</td>\n",
       "      <td>object: 305 x 305 x 135 mm</td>\n",
       "      <td>305</td>\n",
       "      <td>305</td>\n",
       "      <td>135.0</td>\n",
       "      <td>mm</td>\n",
       "      <td>NaN</td>\n",
       "      <td>NaN</td>\n",
       "      <td>NaN</td>\n",
       "      <td>http://www.tate.org.uk/art/artworks/p-orridge-...</td>\n",
       "    </tr>\n",
       "    <tr>\n",
       "      <td>69198</td>\n",
       "      <td>121181</td>\n",
       "      <td>T13867</td>\n",
       "      <td>Hatoum, Mona</td>\n",
       "      <td>artist</td>\n",
       "      <td>2365</td>\n",
       "      <td>Present Tense</td>\n",
       "      <td>1996</td>\n",
       "      <td>Soap and glass beads</td>\n",
       "      <td>Presented by Tate Members 2013</td>\n",
       "      <td>1996</td>\n",
       "      <td>2013.0</td>\n",
       "      <td>displayed: 45 x 2410 x 2990 mm</td>\n",
       "      <td>45</td>\n",
       "      <td>2410</td>\n",
       "      <td>2990.0</td>\n",
       "      <td>mm</td>\n",
       "      <td>NaN</td>\n",
       "      <td>NaN</td>\n",
       "      <td>NaN</td>\n",
       "      <td>http://www.tate.org.uk/art/artworks/hatoum-pre...</td>\n",
       "    </tr>\n",
       "    <tr>\n",
       "      <td>69199</td>\n",
       "      <td>112306</td>\n",
       "      <td>T13868</td>\n",
       "      <td>Creed, Martin</td>\n",
       "      <td>artist</td>\n",
       "      <td>2760</td>\n",
       "      <td>Work No. 227: The lights going on and off</td>\n",
       "      <td>2000</td>\n",
       "      <td>Gallery lighting</td>\n",
       "      <td>Purchased with funds provided by Tate Members,...</td>\n",
       "      <td>2000</td>\n",
       "      <td>2013.0</td>\n",
       "      <td>Overall display dimensions variable</td>\n",
       "      <td>NaN</td>\n",
       "      <td>NaN</td>\n",
       "      <td>NaN</td>\n",
       "      <td>NaN</td>\n",
       "      <td>NaN</td>\n",
       "      <td>NaN</td>\n",
       "      <td>NaN</td>\n",
       "      <td>http://www.tate.org.uk/art/artworks/creed-work...</td>\n",
       "    </tr>\n",
       "    <tr>\n",
       "      <td>69200</td>\n",
       "      <td>127035</td>\n",
       "      <td>T13869</td>\n",
       "      <td>Brunias, Agostino</td>\n",
       "      <td>artist</td>\n",
       "      <td>3824</td>\n",
       "      <td>Dancing Scene in the West Indies</td>\n",
       "      <td>1764–96</td>\n",
       "      <td>Oil paint on canvas</td>\n",
       "      <td>Purchased with assistance from Tate Patrons an...</td>\n",
       "      <td>1764</td>\n",
       "      <td>2013.0</td>\n",
       "      <td>unconfirmed: 508 x 660 mm</td>\n",
       "      <td>508</td>\n",
       "      <td>660</td>\n",
       "      <td>NaN</td>\n",
       "      <td>mm</td>\n",
       "      <td>NaN</td>\n",
       "      <td>NaN</td>\n",
       "      <td>http://www.tate.org.uk/art/images/work/T/T13/T...</td>\n",
       "      <td>http://www.tate.org.uk/art/artworks/brunias-da...</td>\n",
       "    </tr>\n",
       "  </tbody>\n",
       "</table>\n",
       "<p>69201 rows × 20 columns</p>\n",
       "</div>"
      ],
      "text/plain": [
       "           id accession_number              artist artistRole  artistId  \\\n",
       "0        1035           A00001       Blake, Robert     artist        38   \n",
       "1        1036           A00002       Blake, Robert     artist        38   \n",
       "2        1037           A00003       Blake, Robert     artist        38   \n",
       "3        1038           A00004       Blake, Robert     artist        38   \n",
       "4        1039           A00005      Blake, William     artist        39   \n",
       "...       ...              ...                 ...        ...       ...   \n",
       "69196  122960           T13865  P-Orridge, Genesis     artist     16646   \n",
       "69197  122961           T13866  P-Orridge, Genesis     artist     16646   \n",
       "69198  121181           T13867        Hatoum, Mona     artist      2365   \n",
       "69199  112306           T13868       Creed, Martin     artist      2760   \n",
       "69200  127035           T13869   Brunias, Agostino     artist      3824   \n",
       "\n",
       "                                                   title  \\\n",
       "0      A Figure Bowing before a Seated Old Man with h...   \n",
       "1      Two Drawings of Frightened Figures, Probably f...   \n",
       "2      The Preaching of Warning. Verso: An Old Man En...   \n",
       "3         Six Drawings of Figures with Outstretched Arms   \n",
       "4      The Circle of the Lustful: Francesca da Rimini...   \n",
       "...                                                  ...   \n",
       "69196                        Larvae (from Tampax Romana)   \n",
       "69197                   Living Womb (from Tampax Romana)   \n",
       "69198                                      Present Tense   \n",
       "69199          Work No. 227: The lights going on and off   \n",
       "69200                   Dancing Scene in the West Indies   \n",
       "\n",
       "                     dateText  \\\n",
       "0              date not known   \n",
       "1              date not known   \n",
       "2                     ?c.1785   \n",
       "3              date not known   \n",
       "4      1826–7, reprinted 1892   \n",
       "...                       ...   \n",
       "69196                    1975   \n",
       "69197                    1976   \n",
       "69198                    1996   \n",
       "69199                    2000   \n",
       "69200                 1764–96   \n",
       "\n",
       "                                                  medium  \\\n",
       "0      Watercolour, ink, chalk and graphite on paper....   \n",
       "1                                      Graphite on paper   \n",
       "2            Graphite on paper. Verso: graphite on paper   \n",
       "3                                      Graphite on paper   \n",
       "4                                Line engraving on paper   \n",
       "...                                                  ...   \n",
       "69196   Perspex, Wood, hairpiece, tampon and human blood   \n",
       "69197  Wood, Perspex, plastic, photograph on paper, t...   \n",
       "69198                               Soap and glass beads   \n",
       "69199                                   Gallery lighting   \n",
       "69200                                Oil paint on canvas   \n",
       "\n",
       "                                              creditLine  year  \\\n",
       "0                    Presented by Mrs John Richmond 1922   NaN   \n",
       "1                    Presented by Mrs John Richmond 1922   NaN   \n",
       "2                    Presented by Mrs John Richmond 1922  1785   \n",
       "3                    Presented by Mrs John Richmond 1922   NaN   \n",
       "4      Purchased with the assistance of a special gra...  1826   \n",
       "...                                                  ...   ...   \n",
       "69196                 Transferred from Tate Archive 2012  1975   \n",
       "69197                 Transferred from Tate Archive 2012  1976   \n",
       "69198                     Presented by Tate Members 2013  1996   \n",
       "69199  Purchased with funds provided by Tate Members,...  2000   \n",
       "69200  Purchased with assistance from Tate Patrons an...  1764   \n",
       "\n",
       "       acquisitionYear                           dimensions width height  \\\n",
       "0               1922.0                support: 394 x 419 mm   394    419   \n",
       "1               1922.0                support: 311 x 213 mm   311    213   \n",
       "2               1922.0                support: 343 x 467 mm   343    467   \n",
       "3               1922.0                support: 318 x 394 mm   318    394   \n",
       "4               1919.0                  image: 243 x 335 mm   243    335   \n",
       "...                ...                                  ...   ...    ...   \n",
       "69196           2013.0           object: 305 x 305 x 135 mm   305    305   \n",
       "69197           2013.0           object: 305 x 305 x 135 mm   305    305   \n",
       "69198           2013.0       displayed: 45 x 2410 x 2990 mm    45   2410   \n",
       "69199           2013.0  Overall display dimensions variable   NaN    NaN   \n",
       "69200           2013.0            unconfirmed: 508 x 660 mm   508    660   \n",
       "\n",
       "        depth units inscription thumbnailCopyright  \\\n",
       "0         NaN    mm         NaN                NaN   \n",
       "1         NaN    mm         NaN                NaN   \n",
       "2         NaN    mm         NaN                NaN   \n",
       "3         NaN    mm         NaN                NaN   \n",
       "4         NaN    mm         NaN                NaN   \n",
       "...       ...   ...         ...                ...   \n",
       "69196   135.0    mm         NaN                NaN   \n",
       "69197   135.0    mm         NaN                NaN   \n",
       "69198  2990.0    mm         NaN                NaN   \n",
       "69199     NaN   NaN         NaN                NaN   \n",
       "69200     NaN    mm         NaN                NaN   \n",
       "\n",
       "                                            thumbnailUrl  \\\n",
       "0      http://www.tate.org.uk/art/images/work/A/A00/A...   \n",
       "1      http://www.tate.org.uk/art/images/work/A/A00/A...   \n",
       "2      http://www.tate.org.uk/art/images/work/A/A00/A...   \n",
       "3      http://www.tate.org.uk/art/images/work/A/A00/A...   \n",
       "4      http://www.tate.org.uk/art/images/work/A/A00/A...   \n",
       "...                                                  ...   \n",
       "69196                                                NaN   \n",
       "69197                                                NaN   \n",
       "69198                                                NaN   \n",
       "69199                                                NaN   \n",
       "69200  http://www.tate.org.uk/art/images/work/T/T13/T...   \n",
       "\n",
       "                                                     url  \n",
       "0      http://www.tate.org.uk/art/artworks/blake-a-fi...  \n",
       "1      http://www.tate.org.uk/art/artworks/blake-two-...  \n",
       "2      http://www.tate.org.uk/art/artworks/blake-the-...  \n",
       "3      http://www.tate.org.uk/art/artworks/blake-six-...  \n",
       "4      http://www.tate.org.uk/art/artworks/blake-the-...  \n",
       "...                                                  ...  \n",
       "69196  http://www.tate.org.uk/art/artworks/p-orridge-...  \n",
       "69197  http://www.tate.org.uk/art/artworks/p-orridge-...  \n",
       "69198  http://www.tate.org.uk/art/artworks/hatoum-pre...  \n",
       "69199  http://www.tate.org.uk/art/artworks/creed-work...  \n",
       "69200  http://www.tate.org.uk/art/artworks/brunias-da...  \n",
       "\n",
       "[69201 rows x 20 columns]"
      ]
     },
     "execution_count": 27,
     "metadata": {},
     "output_type": "execute_result"
    }
   ],
   "source": [
    "df = pd.read_csv('artwork_data.csv')\n",
    "df"
   ]
  },
  {
   "cell_type": "code",
   "execution_count": null,
   "metadata": {},
   "outputs": [],
   "source": []
  },
  {
   "cell_type": "code",
   "execution_count": null,
   "metadata": {},
   "outputs": [],
   "source": [
    "# Req1 = To Get the only 5 rows only."
   ]
  },
  {
   "cell_type": "code",
   "execution_count": 28,
   "metadata": {},
   "outputs": [
    {
     "data": {
      "text/html": [
       "<div>\n",
       "<style scoped>\n",
       "    .dataframe tbody tr th:only-of-type {\n",
       "        vertical-align: middle;\n",
       "    }\n",
       "\n",
       "    .dataframe tbody tr th {\n",
       "        vertical-align: top;\n",
       "    }\n",
       "\n",
       "    .dataframe thead th {\n",
       "        text-align: right;\n",
       "    }\n",
       "</style>\n",
       "<table border=\"1\" class=\"dataframe\">\n",
       "  <thead>\n",
       "    <tr style=\"text-align: right;\">\n",
       "      <th></th>\n",
       "      <th>id</th>\n",
       "      <th>accession_number</th>\n",
       "      <th>artist</th>\n",
       "      <th>artistRole</th>\n",
       "      <th>artistId</th>\n",
       "      <th>title</th>\n",
       "      <th>dateText</th>\n",
       "      <th>medium</th>\n",
       "      <th>creditLine</th>\n",
       "      <th>year</th>\n",
       "      <th>acquisitionYear</th>\n",
       "      <th>dimensions</th>\n",
       "      <th>width</th>\n",
       "      <th>height</th>\n",
       "      <th>depth</th>\n",
       "      <th>units</th>\n",
       "      <th>inscription</th>\n",
       "      <th>thumbnailCopyright</th>\n",
       "      <th>thumbnailUrl</th>\n",
       "      <th>url</th>\n",
       "    </tr>\n",
       "  </thead>\n",
       "  <tbody>\n",
       "    <tr>\n",
       "      <td>0</td>\n",
       "      <td>1035</td>\n",
       "      <td>A00001</td>\n",
       "      <td>Blake, Robert</td>\n",
       "      <td>artist</td>\n",
       "      <td>38</td>\n",
       "      <td>A Figure Bowing before a Seated Old Man with h...</td>\n",
       "      <td>date not known</td>\n",
       "      <td>Watercolour, ink, chalk and graphite on paper....</td>\n",
       "      <td>Presented by Mrs John Richmond 1922</td>\n",
       "      <td>NaN</td>\n",
       "      <td>1922</td>\n",
       "      <td>support: 394 x 419 mm</td>\n",
       "      <td>394</td>\n",
       "      <td>419</td>\n",
       "      <td>NaN</td>\n",
       "      <td>mm</td>\n",
       "      <td>NaN</td>\n",
       "      <td>NaN</td>\n",
       "      <td>http://www.tate.org.uk/art/images/work/A/A00/A...</td>\n",
       "      <td>http://www.tate.org.uk/art/artworks/blake-a-fi...</td>\n",
       "    </tr>\n",
       "    <tr>\n",
       "      <td>1</td>\n",
       "      <td>1036</td>\n",
       "      <td>A00002</td>\n",
       "      <td>Blake, Robert</td>\n",
       "      <td>artist</td>\n",
       "      <td>38</td>\n",
       "      <td>Two Drawings of Frightened Figures, Probably f...</td>\n",
       "      <td>date not known</td>\n",
       "      <td>Graphite on paper</td>\n",
       "      <td>Presented by Mrs John Richmond 1922</td>\n",
       "      <td>NaN</td>\n",
       "      <td>1922</td>\n",
       "      <td>support: 311 x 213 mm</td>\n",
       "      <td>311</td>\n",
       "      <td>213</td>\n",
       "      <td>NaN</td>\n",
       "      <td>mm</td>\n",
       "      <td>NaN</td>\n",
       "      <td>NaN</td>\n",
       "      <td>http://www.tate.org.uk/art/images/work/A/A00/A...</td>\n",
       "      <td>http://www.tate.org.uk/art/artworks/blake-two-...</td>\n",
       "    </tr>\n",
       "    <tr>\n",
       "      <td>2</td>\n",
       "      <td>1037</td>\n",
       "      <td>A00003</td>\n",
       "      <td>Blake, Robert</td>\n",
       "      <td>artist</td>\n",
       "      <td>38</td>\n",
       "      <td>The Preaching of Warning. Verso: An Old Man En...</td>\n",
       "      <td>?c.1785</td>\n",
       "      <td>Graphite on paper. Verso: graphite on paper</td>\n",
       "      <td>Presented by Mrs John Richmond 1922</td>\n",
       "      <td>1785.0</td>\n",
       "      <td>1922</td>\n",
       "      <td>support: 343 x 467 mm</td>\n",
       "      <td>343</td>\n",
       "      <td>467</td>\n",
       "      <td>NaN</td>\n",
       "      <td>mm</td>\n",
       "      <td>NaN</td>\n",
       "      <td>NaN</td>\n",
       "      <td>http://www.tate.org.uk/art/images/work/A/A00/A...</td>\n",
       "      <td>http://www.tate.org.uk/art/artworks/blake-the-...</td>\n",
       "    </tr>\n",
       "    <tr>\n",
       "      <td>3</td>\n",
       "      <td>1038</td>\n",
       "      <td>A00004</td>\n",
       "      <td>Blake, Robert</td>\n",
       "      <td>artist</td>\n",
       "      <td>38</td>\n",
       "      <td>Six Drawings of Figures with Outstretched Arms</td>\n",
       "      <td>date not known</td>\n",
       "      <td>Graphite on paper</td>\n",
       "      <td>Presented by Mrs John Richmond 1922</td>\n",
       "      <td>NaN</td>\n",
       "      <td>1922</td>\n",
       "      <td>support: 318 x 394 mm</td>\n",
       "      <td>318</td>\n",
       "      <td>394</td>\n",
       "      <td>NaN</td>\n",
       "      <td>mm</td>\n",
       "      <td>NaN</td>\n",
       "      <td>NaN</td>\n",
       "      <td>http://www.tate.org.uk/art/images/work/A/A00/A...</td>\n",
       "      <td>http://www.tate.org.uk/art/artworks/blake-six-...</td>\n",
       "    </tr>\n",
       "    <tr>\n",
       "      <td>4</td>\n",
       "      <td>1039</td>\n",
       "      <td>A00005</td>\n",
       "      <td>Blake, William</td>\n",
       "      <td>artist</td>\n",
       "      <td>39</td>\n",
       "      <td>The Circle of the Lustful: Francesca da Rimini...</td>\n",
       "      <td>1826–7, reprinted 1892</td>\n",
       "      <td>Line engraving on paper</td>\n",
       "      <td>Purchased with the assistance of a special gra...</td>\n",
       "      <td>1826.0</td>\n",
       "      <td>1919</td>\n",
       "      <td>image: 243 x 335 mm</td>\n",
       "      <td>243</td>\n",
       "      <td>335</td>\n",
       "      <td>NaN</td>\n",
       "      <td>mm</td>\n",
       "      <td>NaN</td>\n",
       "      <td>NaN</td>\n",
       "      <td>http://www.tate.org.uk/art/images/work/A/A00/A...</td>\n",
       "      <td>http://www.tate.org.uk/art/artworks/blake-the-...</td>\n",
       "    </tr>\n",
       "  </tbody>\n",
       "</table>\n",
       "</div>"
      ],
      "text/plain": [
       "     id accession_number          artist artistRole  artistId  \\\n",
       "0  1035           A00001   Blake, Robert     artist        38   \n",
       "1  1036           A00002   Blake, Robert     artist        38   \n",
       "2  1037           A00003   Blake, Robert     artist        38   \n",
       "3  1038           A00004   Blake, Robert     artist        38   \n",
       "4  1039           A00005  Blake, William     artist        39   \n",
       "\n",
       "                                               title                dateText  \\\n",
       "0  A Figure Bowing before a Seated Old Man with h...          date not known   \n",
       "1  Two Drawings of Frightened Figures, Probably f...          date not known   \n",
       "2  The Preaching of Warning. Verso: An Old Man En...                 ?c.1785   \n",
       "3     Six Drawings of Figures with Outstretched Arms          date not known   \n",
       "4  The Circle of the Lustful: Francesca da Rimini...  1826–7, reprinted 1892   \n",
       "\n",
       "                                              medium  \\\n",
       "0  Watercolour, ink, chalk and graphite on paper....   \n",
       "1                                  Graphite on paper   \n",
       "2        Graphite on paper. Verso: graphite on paper   \n",
       "3                                  Graphite on paper   \n",
       "4                            Line engraving on paper   \n",
       "\n",
       "                                          creditLine    year  acquisitionYear  \\\n",
       "0                Presented by Mrs John Richmond 1922     NaN             1922   \n",
       "1                Presented by Mrs John Richmond 1922     NaN             1922   \n",
       "2                Presented by Mrs John Richmond 1922  1785.0             1922   \n",
       "3                Presented by Mrs John Richmond 1922     NaN             1922   \n",
       "4  Purchased with the assistance of a special gra...  1826.0             1919   \n",
       "\n",
       "              dimensions  width  height  depth units  inscription  \\\n",
       "0  support: 394 x 419 mm    394     419    NaN    mm          NaN   \n",
       "1  support: 311 x 213 mm    311     213    NaN    mm          NaN   \n",
       "2  support: 343 x 467 mm    343     467    NaN    mm          NaN   \n",
       "3  support: 318 x 394 mm    318     394    NaN    mm          NaN   \n",
       "4    image: 243 x 335 mm    243     335    NaN    mm          NaN   \n",
       "\n",
       "   thumbnailCopyright                                       thumbnailUrl  \\\n",
       "0                 NaN  http://www.tate.org.uk/art/images/work/A/A00/A...   \n",
       "1                 NaN  http://www.tate.org.uk/art/images/work/A/A00/A...   \n",
       "2                 NaN  http://www.tate.org.uk/art/images/work/A/A00/A...   \n",
       "3                 NaN  http://www.tate.org.uk/art/images/work/A/A00/A...   \n",
       "4                 NaN  http://www.tate.org.uk/art/images/work/A/A00/A...   \n",
       "\n",
       "                                                 url  \n",
       "0  http://www.tate.org.uk/art/artworks/blake-a-fi...  \n",
       "1  http://www.tate.org.uk/art/artworks/blake-two-...  \n",
       "2  http://www.tate.org.uk/art/artworks/blake-the-...  \n",
       "3  http://www.tate.org.uk/art/artworks/blake-six-...  \n",
       "4  http://www.tate.org.uk/art/artworks/blake-the-...  "
      ]
     },
     "execution_count": 28,
     "metadata": {},
     "output_type": "execute_result"
    }
   ],
   "source": [
    "df = pd.read_csv('artwork_data.csv',nrows=5)\n",
    "df"
   ]
  },
  {
   "cell_type": "code",
   "execution_count": null,
   "metadata": {},
   "outputs": [],
   "source": []
  },
  {
   "cell_type": "code",
   "execution_count": null,
   "metadata": {},
   "outputs": [],
   "source": [
    "# Req_2 = To Get the columns --->ID ,ARTIST,TITLE,YEAR with 2 rows of data."
   ]
  },
  {
   "cell_type": "code",
   "execution_count": 45,
   "metadata": {},
   "outputs": [
    {
     "data": {
      "text/html": [
       "<div>\n",
       "<style scoped>\n",
       "    .dataframe tbody tr th:only-of-type {\n",
       "        vertical-align: middle;\n",
       "    }\n",
       "\n",
       "    .dataframe tbody tr th {\n",
       "        vertical-align: top;\n",
       "    }\n",
       "\n",
       "    .dataframe thead th {\n",
       "        text-align: right;\n",
       "    }\n",
       "</style>\n",
       "<table border=\"1\" class=\"dataframe\">\n",
       "  <thead>\n",
       "    <tr style=\"text-align: right;\">\n",
       "      <th></th>\n",
       "      <th>artist</th>\n",
       "      <th>title</th>\n",
       "      <th>year</th>\n",
       "    </tr>\n",
       "    <tr>\n",
       "      <th>id</th>\n",
       "      <th></th>\n",
       "      <th></th>\n",
       "      <th></th>\n",
       "    </tr>\n",
       "  </thead>\n",
       "  <tbody>\n",
       "    <tr>\n",
       "      <td>1035</td>\n",
       "      <td>Blake, Robert</td>\n",
       "      <td>A Figure Bowing before a Seated Old Man with h...</td>\n",
       "      <td>NaN</td>\n",
       "    </tr>\n",
       "    <tr>\n",
       "      <td>1036</td>\n",
       "      <td>Blake, Robert</td>\n",
       "      <td>Two Drawings of Frightened Figures, Probably f...</td>\n",
       "      <td>NaN</td>\n",
       "    </tr>\n",
       "  </tbody>\n",
       "</table>\n",
       "</div>"
      ],
      "text/plain": [
       "             artist                                              title  year\n",
       "id                                                                          \n",
       "1035  Blake, Robert  A Figure Bowing before a Seated Old Man with h...   NaN\n",
       "1036  Blake, Robert  Two Drawings of Frightened Figures, Probably f...   NaN"
      ]
     },
     "execution_count": 45,
     "metadata": {},
     "output_type": "execute_result"
    }
   ],
   "source": [
    "df = pd.read_csv('artwork_data.csv',nrows=2,index_col='id',usecols=['id','artist','title','year'])\n",
    "df"
   ]
  },
  {
   "cell_type": "code",
   "execution_count": null,
   "metadata": {},
   "outputs": [],
   "source": []
  },
  {
   "cell_type": "code",
   "execution_count": null,
   "metadata": {},
   "outputs": [],
   "source": [
    "# Req_3 = additional columns ."
   ]
  },
  {
   "cell_type": "code",
   "execution_count": 69,
   "metadata": {},
   "outputs": [],
   "source": [
    "COLUMNS_TO_USE = ['id','artist','title','medium','year','height','width']"
   ]
  },
  {
   "cell_type": "code",
   "execution_count": 71,
   "metadata": {},
   "outputs": [
    {
     "ename": "SyntaxError",
     "evalue": "invalid syntax (<ipython-input-71-b4d34fc86200>, line 1)",
     "output_type": "error",
     "traceback": [
      "\u001b[1;36m  File \u001b[1;32m\"<ipython-input-71-b4d34fc86200>\"\u001b[1;36m, line \u001b[1;32m1\u001b[0m\n\u001b[1;33m    df = pd.read_csv('artwork_data.csv'nrows = 2,index_col = 'id',usecols = COLUMNS_TO_USE)\u001b[0m\n\u001b[1;37m                                           ^\u001b[0m\n\u001b[1;31mSyntaxError\u001b[0m\u001b[1;31m:\u001b[0m invalid syntax\n"
     ]
    }
   ],
   "source": [
    "df = pd.read_csv('artwork_data.csv'nrows = 2,index_col = 'id',usecols = COLUMNS_TO_USE)\n",
    "\n",
    "df"
   ]
  },
  {
   "cell_type": "code",
   "execution_count": null,
   "metadata": {},
   "outputs": [],
   "source": [
    "----------------------Please help me here -----------------"
   ]
  },
  {
   "cell_type": "code",
   "execution_count": null,
   "metadata": {},
   "outputs": [],
   "source": []
  },
  {
   "cell_type": "code",
   "execution_count": null,
   "metadata": {},
   "outputs": [],
   "source": [
    "_pickle() :pickle (serialize) object to file.File path where the pickled object will be stored. "
   ]
  },
  {
   "cell_type": "code",
   "execution_count": 65,
   "metadata": {},
   "outputs": [
    {
     "ename": "FileNotFoundError",
     "evalue": "[Errno 2] No such file or directory: 'dataframe_b15.pickle'",
     "output_type": "error",
     "traceback": [
      "\u001b[1;31m---------------------------------------------------------------------------\u001b[0m",
      "\u001b[1;31mFileNotFoundError\u001b[0m                         Traceback (most recent call last)",
      "\u001b[1;32m<ipython-input-65-d7969a6d6152>\u001b[0m in \u001b[0;36m<module>\u001b[1;34m\u001b[0m\n\u001b[1;32m----> 1\u001b[1;33m \u001b[0mg\u001b[0m \u001b[1;33m=\u001b[0m \u001b[0mpd\u001b[0m\u001b[1;33m.\u001b[0m\u001b[0mread_pickle\u001b[0m\u001b[1;33m(\u001b[0m\u001b[1;34m'dataframe_b15.pickle'\u001b[0m\u001b[1;33m)\u001b[0m\u001b[1;33m\u001b[0m\u001b[1;33m\u001b[0m\u001b[0m\n\u001b[0m\u001b[0;32m      2\u001b[0m \u001b[0mg\u001b[0m\u001b[1;33m\u001b[0m\u001b[1;33m\u001b[0m\u001b[0m\n",
      "\u001b[1;32mC:\\ProgramData\\Anaconda3\\lib\\site-packages\\pandas\\io\\pickle.py\u001b[0m in \u001b[0;36mread_pickle\u001b[1;34m(path, compression)\u001b[0m\n\u001b[0;32m    143\u001b[0m     \"\"\"\n\u001b[0;32m    144\u001b[0m     \u001b[0mpath\u001b[0m \u001b[1;33m=\u001b[0m \u001b[0m_stringify_path\u001b[0m\u001b[1;33m(\u001b[0m\u001b[0mpath\u001b[0m\u001b[1;33m)\u001b[0m\u001b[1;33m\u001b[0m\u001b[1;33m\u001b[0m\u001b[0m\n\u001b[1;32m--> 145\u001b[1;33m     \u001b[0mf\u001b[0m\u001b[1;33m,\u001b[0m \u001b[0mfh\u001b[0m \u001b[1;33m=\u001b[0m \u001b[0m_get_handle\u001b[0m\u001b[1;33m(\u001b[0m\u001b[0mpath\u001b[0m\u001b[1;33m,\u001b[0m \u001b[1;34m\"rb\"\u001b[0m\u001b[1;33m,\u001b[0m \u001b[0mcompression\u001b[0m\u001b[1;33m=\u001b[0m\u001b[0mcompression\u001b[0m\u001b[1;33m,\u001b[0m \u001b[0mis_text\u001b[0m\u001b[1;33m=\u001b[0m\u001b[1;32mFalse\u001b[0m\u001b[1;33m)\u001b[0m\u001b[1;33m\u001b[0m\u001b[1;33m\u001b[0m\u001b[0m\n\u001b[0m\u001b[0;32m    146\u001b[0m \u001b[1;33m\u001b[0m\u001b[0m\n\u001b[0;32m    147\u001b[0m     \u001b[1;31m# 1) try standard libary Pickle\u001b[0m\u001b[1;33m\u001b[0m\u001b[1;33m\u001b[0m\u001b[1;33m\u001b[0m\u001b[0m\n",
      "\u001b[1;32mC:\\ProgramData\\Anaconda3\\lib\\site-packages\\pandas\\io\\common.py\u001b[0m in \u001b[0;36m_get_handle\u001b[1;34m(path_or_buf, mode, encoding, compression, memory_map, is_text)\u001b[0m\n\u001b[0;32m    403\u001b[0m         \u001b[1;32melse\u001b[0m\u001b[1;33m:\u001b[0m\u001b[1;33m\u001b[0m\u001b[1;33m\u001b[0m\u001b[0m\n\u001b[0;32m    404\u001b[0m             \u001b[1;31m# Binary mode\u001b[0m\u001b[1;33m\u001b[0m\u001b[1;33m\u001b[0m\u001b[1;33m\u001b[0m\u001b[0m\n\u001b[1;32m--> 405\u001b[1;33m             \u001b[0mf\u001b[0m \u001b[1;33m=\u001b[0m \u001b[0mopen\u001b[0m\u001b[1;33m(\u001b[0m\u001b[0mpath_or_buf\u001b[0m\u001b[1;33m,\u001b[0m \u001b[0mmode\u001b[0m\u001b[1;33m)\u001b[0m\u001b[1;33m\u001b[0m\u001b[1;33m\u001b[0m\u001b[0m\n\u001b[0m\u001b[0;32m    406\u001b[0m         \u001b[0mhandles\u001b[0m\u001b[1;33m.\u001b[0m\u001b[0mappend\u001b[0m\u001b[1;33m(\u001b[0m\u001b[0mf\u001b[0m\u001b[1;33m)\u001b[0m\u001b[1;33m\u001b[0m\u001b[1;33m\u001b[0m\u001b[0m\n\u001b[0;32m    407\u001b[0m \u001b[1;33m\u001b[0m\u001b[0m\n",
      "\u001b[1;31mFileNotFoundError\u001b[0m: [Errno 2] No such file or directory: 'dataframe_b15.pickle'"
     ]
    }
   ],
   "source": [
    "g = pd.read_pickle('dataframe_b15.pickle')\n",
    "g"
   ]
  },
  {
   "cell_type": "code",
   "execution_count": null,
   "metadata": {},
   "outputs": [],
   "source": [
    "----------------------Please help me here -----------------"
   ]
  },
  {
   "cell_type": "code",
   "execution_count": null,
   "metadata": {},
   "outputs": [],
   "source": []
  },
  {
   "cell_type": "code",
   "execution_count": null,
   "metadata": {},
   "outputs": [],
   "source": []
  }
 ],
 "metadata": {
  "kernelspec": {
   "display_name": "Python 3",
   "language": "python",
   "name": "python3"
  },
  "language_info": {
   "codemirror_mode": {
    "name": "ipython",
    "version": 3
   },
   "file_extension": ".py",
   "mimetype": "text/x-python",
   "name": "python",
   "nbconvert_exporter": "python",
   "pygments_lexer": "ipython3",
   "version": "3.7.4"
  }
 },
 "nbformat": 4,
 "nbformat_minor": 2
}
